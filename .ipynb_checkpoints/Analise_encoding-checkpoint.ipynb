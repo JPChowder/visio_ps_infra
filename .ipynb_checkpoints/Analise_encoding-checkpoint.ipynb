{
 "cells": [
  {
   "cell_type": "markdown",
   "metadata": {},
   "source": [
    "# Processo Seletivo - Visio Infraestrutura de Software\n",
    "João Pedro Trevisan\n",
    "Agosto de 2024  \n",
    "  \n",
    "---"
   ]
  },
  {
   "cell_type": "markdown",
   "metadata": {},
   "source": [
    "## Importações e recorte dos videos"
   ]
  },
  {
   "cell_type": "code",
   "execution_count": 1,
   "metadata": {},
   "outputs": [
    {
     "ename": "NameError",
     "evalue": "name 'client' is not defined",
     "output_type": "error",
     "traceback": [
      "\u001b[0;31m---------------------------------------------------------------------------\u001b[0m",
      "\u001b[0;31mNameError\u001b[0m                                 Traceback (most recent call last)",
      "Cell \u001b[0;32mIn[1], line 4\u001b[0m\n\u001b[1;32m      1\u001b[0m \u001b[38;5;66;03m#! pip install google-cloud-storage\u001b[39;00m\n\u001b[1;32m      2\u001b[0m \u001b[38;5;28;01mfrom\u001b[39;00m \u001b[38;5;21;01mgoogle\u001b[39;00m\u001b[38;5;21;01m.\u001b[39;00m\u001b[38;5;21;01mcloud\u001b[39;00m \u001b[38;5;28;01mimport\u001b[39;00m storage\n\u001b[0;32m----> 4\u001b[0m \u001b[43mclient\u001b[49m\u001b[38;5;241m.\u001b[39mcreate_anonymous_client()\n\u001b[1;32m      5\u001b[0m client \u001b[38;5;241m=\u001b[39m storage\u001b[38;5;241m.\u001b[39mclient\u001b[38;5;241m.\u001b[39mcreate_anonymous_client()\n\u001b[1;32m      6\u001b[0m bucket \u001b[38;5;241m=\u001b[39m client\u001b[38;5;241m.\u001b[39mbucket(bucket_name\u001b[38;5;241m=\u001b[39m\u001b[38;5;124m'\u001b[39m\u001b[38;5;124mpsel_video_samples\u001b[39m\u001b[38;5;124m'\u001b[39m)\n",
      "\u001b[0;31mNameError\u001b[0m: name 'client' is not defined"
     ]
    }
   ],
   "source": [
    "#! pip install google-cloud-storage\n",
    "from google.cloud import storage\n",
    "\n",
    "client.create_anonymous_client()\n",
    "client = storage.client.create_anonymous_client()\n",
    "bucket = client.bucket(bucket_name='psel_video_samples')\n",
    "\n",
    "blob = bucket.blob('h264.mp4') # repita para h265 e h264\n",
    "blob.download_to_filename('videos_visio/h264.mp4')\n",
    "blob = bucket.blob('h264+.mp4') # repita para h265 e h264\n",
    "blob.download_to_filename('videos_visio/h264.mp4')\n",
    "blob = bucket.blob('h265.mp4') # repita para h265 e h264\n",
    "blob.download_to_filename('videos_visio/h265.mp4')"
   ]
  },
  {
   "cell_type": "code",
   "execution_count": null,
   "metadata": {},
   "outputs": [],
   "source": [
    "import subprocess\n",
    "\n",
    "# cortando video h264\n",
    "video_saida = \"videos_visio/h264.mp4\"\n",
    "video_entrada = \"videos_visio/30s_h264.mp4\"\n",
    "duracao = \"00:00:30\"\n",
    "cmd = [\n",
    "    \"ffmpeg\",\n",
    "    \"-i\", video_entrada,\n",
    "    \"-t\", duracao,\n",
    "    \"-c\", \"copy\",\n",
    "    video_saida\n",
    "]\n",
    "subprocess.run(cmd, check=True)\n",
    "\n",
    "# cortando video h264+\n",
    "video_saida = \"videos_visio/h264+.mp4\"\n",
    "video_entrada = \"videos_visio/30s_h264+.mp4\"\n",
    "duracao = \"00:00:30\"\n",
    "cmd = [\n",
    "    \"ffmpeg\",\n",
    "    \"-i\", video_entrada,\n",
    "    \"-t\", duracao,\n",
    "    \"-c\", \"copy\",\n",
    "    video_saida\n",
    "]\n",
    "subprocess.run(cmd, check=True)\n",
    "\n",
    "# cortando video h265\n",
    "video_saida = \"videos_visio/h265.mp4\"\n",
    "video_entrada = \"videos_visio/30s_h265.mp4\"\n",
    "duracao = \"00:00:30\"\n",
    "cmd = [\n",
    "    \"ffmpeg\",\n",
    "    \"-i\", video_entrada,\n",
    "    \"-t\", duracao,\n",
    "    \"-c\", \"copy\",\n",
    "    video_saida\n",
    "]\n",
    "subprocess.run(cmd, check=True)"
   ]
  },
  {
   "cell_type": "markdown",
   "metadata": {},
   "source": [
    "## Testes VP8"
   ]
  },
  {
   "cell_type": "markdown",
   "metadata": {},
   "source": [
    "## Testes VP9"
   ]
  },
  {
   "cell_type": "markdown",
   "metadata": {},
   "source": [
    "## Testes AV1"
   ]
  },
  {
   "cell_type": "code",
   "execution_count": 2,
   "metadata": {},
   "outputs": [
    {
     "ename": "ModuleNotFoundError",
     "evalue": "No module named 'utils.test'",
     "output_type": "error",
     "traceback": [
      "\u001b[0;31m---------------------------------------------------------------------------\u001b[0m",
      "\u001b[0;31mModuleNotFoundError\u001b[0m                       Traceback (most recent call last)",
      "Cell \u001b[0;32mIn[2], line 1\u001b[0m\n\u001b[0;32m----> 1\u001b[0m \u001b[38;5;28;01mfrom\u001b[39;00m \u001b[38;5;21;01mutils\u001b[39;00m\u001b[38;5;21;01m.\u001b[39;00m\u001b[38;5;21;01mtest\u001b[39;00m \u001b[38;5;28;01mimport\u001b[39;00m run_tests_and_save_results, test_reencoder\n\u001b[1;32m      2\u001b[0m \u001b[38;5;28;01mfrom\u001b[39;00m \u001b[38;5;21;01mutils\u001b[39;00m\u001b[38;5;21;01m.\u001b[39;00m\u001b[38;5;21;01mmeta_fetch\u001b[39;00m \u001b[38;5;28;01mimport\u001b[39;00m MetaFetch\n\u001b[1;32m      3\u001b[0m \u001b[38;5;28;01mfrom\u001b[39;00m \u001b[38;5;21;01mreencoder\u001b[39;00m \u001b[38;5;28;01mimport\u001b[39;00m AV1Reencoder\n",
      "\u001b[0;31mModuleNotFoundError\u001b[0m: No module named 'utils.test'"
     ]
    }
   ],
   "source": [
    "from utils.test_reencoder import run_tests_and_save_results, test_reencoder\n",
    "from utils.meta_fetch import MetaFetch\n",
    "from reencoder import AV1Reencoder\n",
    "import pandas as pd\n",
    "\n",
    "input_video = \"videos_visio/5s_h264.mp4\"\n",
    "output_template = \"videos_visio/reencod/AV1/output_h264_av1_crf{crf}_speed{speed}.mkv\"\n",
    "crf_values = [30]\n",
    "speed_values = [8]\n",
    "input_video_info = MetaFetch(input_video)\n",
    "bitrate = input_video_info.get_bitrate()\n",
    "df_results_1 = run_tests_and_save_results(AV1Reencoder, input_video, output_template, crf_values, speed_values, bitrate)\n",
    "\n",
    "\n",
    "input_video = \"videos_visio/5s_h265.mp4\"\n",
    "output_template = \"videos_visio/reencod/AV1/output_h265_av1_crf{crf}_speed{speed}.mkv\"\n",
    "crf_values = [30]\n",
    "speed_values = [8]\n",
    "input_video_info = MetaFetch(input_video)\n",
    "bitrate = input_video_info.get_bitrate()\n",
    "df_results_2 = run_tests_and_save_results(AV1Reencoder, input_video, output_template, crf_values, speed_values, bitrate)\n",
    "\n",
    "\n",
    "input_video = \"videos_visio/5s_h264+.mp4\"\n",
    "output_template = \"videos_visio/reencod/AV1/output_h264+_av1_crf{crf}_speed{speed}.mkv\"\n",
    "crf_values = [30]\n",
    "speed_values = [8]\n",
    "input_video_info = MetaFetch(input_video)\n",
    "bitrate = input_video_info.get_bitrate()\n",
    "df_results_3 = run_tests_and_save_results(AV1Reencoder, input_video, output_template, crf_values, speed_values, bitrate)"
   ]
  },
  {
   "cell_type": "markdown",
   "metadata": {},
   "source": [
    "## Conclusões"
   ]
  }
 ],
 "metadata": {
  "kernelspec": {
   "display_name": "Python 3",
   "language": "python",
   "name": "python3"
  },
  "language_info": {
   "codemirror_mode": {
    "name": "ipython",
    "version": 3
   },
   "file_extension": ".py",
   "mimetype": "text/x-python",
   "name": "python",
   "nbconvert_exporter": "python",
   "pygments_lexer": "ipython3",
   "version": "3.10.12"
  }
 },
 "nbformat": 4,
 "nbformat_minor": 2
}
